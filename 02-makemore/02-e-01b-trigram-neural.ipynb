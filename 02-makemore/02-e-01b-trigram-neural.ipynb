{
 "cells": [
  {
   "cell_type": "code",
   "execution_count": 11,
   "id": "6a86c668-bdfd-427d-b549-ff39614e3d63",
   "metadata": {},
   "outputs": [],
   "source": [
    "import torch\n",
    "import torch.nn.functional as F\n",
    "import numpy as np\n",
    "import matplotlib.pyplot as plt\n",
    "%matplotlib inline"
   ]
  },
  {
   "cell_type": "code",
   "execution_count": 2,
   "id": "2bff37c4-0a61-4986-b9f1-5451af0c1a25",
   "metadata": {},
   "outputs": [],
   "source": [
    "words = open('../_resources/names.txt', 'r').read().splitlines()"
   ]
  },
  {
   "cell_type": "code",
   "execution_count": 3,
   "id": "0f959206-772f-42f1-b90d-91a3ce99329e",
   "metadata": {},
   "outputs": [],
   "source": [
    "chars = sorted(list(set(''.join(words))))\n",
    "\n",
    "stoi = {s:i+1 for i,s in enumerate(chars)}\n",
    "stoi['.'] = 0\n",
    "\n",
    "itos = {i:s for s,i in stoi.items()}\n",
    "itos = dict(sorted(itos.items(), key=lambda item: 0 if item[1] == '.' else 1))"
   ]
  },
  {
   "cell_type": "code",
   "execution_count": 65,
   "id": "fe9058da-439a-4ff5-9f82-c9fa41303f5c",
   "metadata": {},
   "outputs": [],
   "source": [
    "N = torch.zeros((27, 27), dtype=torch.int32) # a tensor with shape (27,27)"
   ]
  },
  {
   "cell_type": "code",
   "execution_count": 78,
   "id": "5061c1da-1279-4c1c-9979-4a83db9e6a33",
   "metadata": {},
   "outputs": [],
   "source": [
    "xs, ys = [], []\n",
    "\n",
    "for w in words:\n",
    "# for w in words[:1]:\n",
    "    chs = ['.'] + ['.'] + list(w) + ['.']\n",
    "    for ch1, ch2, ch3 in zip(chs, chs[1:], chs[2:]):\n",
    "        ix1 = [stoi[ch1], stoi[ch2]]\n",
    "        ix2 = stoi[ch3]\n",
    "        xs.append(ix1)\n",
    "        ys.append(ix2)\n",
    "\n",
    "xs = torch.tensor(xs)\n",
    "ys = torch.tensor(ys)\n",
    "\n",
    "num = len(xs)"
   ]
  },
  {
   "cell_type": "code",
   "execution_count": 8,
   "id": "1d9ba362-8232-43ab-acae-8578785ad7c4",
   "metadata": {},
   "outputs": [
    {
     "data": {
      "text/plain": [
       "(tensor([[ 0,  0],\n",
       "         [ 0,  5],\n",
       "         [ 5, 13],\n",
       "         [13, 13],\n",
       "         [13,  1]]),\n",
       " tensor([ 5, 13, 13,  1,  0]))"
      ]
     },
     "execution_count": 8,
     "metadata": {},
     "output_type": "execute_result"
    }
   ],
   "source": [
    "(xs, ys)"
   ]
  },
  {
   "cell_type": "code",
   "execution_count": 79,
   "id": "c44e9f44-d2e5-4616-91e2-6c4f035a9ae0",
   "metadata": {},
   "outputs": [
    {
     "data": {
      "text/plain": [
       "torch.Size([228146, 54])"
      ]
     },
     "execution_count": 79,
     "metadata": {},
     "output_type": "execute_result"
    }
   ],
   "source": [
    "xenc = F.one_hot(xs, num_classes=27).float()\n",
    "xenc_cat = xenc.view(xenc.shape[0], -1)\n",
    "# xenc.shape # torch.Size([5, 2, 27])\n",
    "xenc_cat.shape"
   ]
  },
  {
   "cell_type": "code",
   "execution_count": 91,
   "id": "511ca61b-e9dd-4778-9b1e-01fd283c0527",
   "metadata": {},
   "outputs": [
    {
     "name": "stdout",
     "output_type": "stream",
     "text": [
      "tensor(4.2325, grad_fn=<NegBackward0>)\n",
      "tensor(3.1502, grad_fn=<NegBackward0>)\n",
      "tensor(2.8669, grad_fn=<NegBackward0>)\n",
      "tensor(2.7393, grad_fn=<NegBackward0>)\n",
      "tensor(2.6613, grad_fn=<NegBackward0>)\n",
      "tensor(2.6074, grad_fn=<NegBackward0>)\n",
      "tensor(2.5680, grad_fn=<NegBackward0>)\n",
      "tensor(2.5382, grad_fn=<NegBackward0>)\n",
      "tensor(2.5151, grad_fn=<NegBackward0>)\n",
      "tensor(2.4966, grad_fn=<NegBackward0>)\n",
      "tensor(2.4815, grad_fn=<NegBackward0>)\n",
      "tensor(2.4689, grad_fn=<NegBackward0>)\n",
      "tensor(2.4582, grad_fn=<NegBackward0>)\n",
      "tensor(2.4490, grad_fn=<NegBackward0>)\n",
      "tensor(2.4410, grad_fn=<NegBackward0>)\n",
      "tensor(2.4340, grad_fn=<NegBackward0>)\n",
      "tensor(2.4278, grad_fn=<NegBackward0>)\n",
      "tensor(2.4223, grad_fn=<NegBackward0>)\n",
      "tensor(2.4173, grad_fn=<NegBackward0>)\n",
      "tensor(2.4129, grad_fn=<NegBackward0>)\n",
      "tensor(2.4089, grad_fn=<NegBackward0>)\n",
      "tensor(2.4053, grad_fn=<NegBackward0>)\n",
      "tensor(2.4020, grad_fn=<NegBackward0>)\n",
      "tensor(2.3989, grad_fn=<NegBackward0>)\n",
      "tensor(2.3962, grad_fn=<NegBackward0>)\n",
      "tensor(2.3936, grad_fn=<NegBackward0>)\n",
      "tensor(2.3913, grad_fn=<NegBackward0>)\n",
      "tensor(2.3891, grad_fn=<NegBackward0>)\n",
      "tensor(2.3871, grad_fn=<NegBackward0>)\n",
      "tensor(2.3852, grad_fn=<NegBackward0>)\n",
      "tensor(2.3834, grad_fn=<NegBackward0>)\n",
      "tensor(2.3818, grad_fn=<NegBackward0>)\n",
      "tensor(2.3803, grad_fn=<NegBackward0>)\n",
      "tensor(2.3788, grad_fn=<NegBackward0>)\n",
      "tensor(2.3775, grad_fn=<NegBackward0>)\n",
      "tensor(2.3762, grad_fn=<NegBackward0>)\n",
      "tensor(2.3750, grad_fn=<NegBackward0>)\n",
      "tensor(2.3739, grad_fn=<NegBackward0>)\n",
      "tensor(2.3728, grad_fn=<NegBackward0>)\n",
      "tensor(2.3718, grad_fn=<NegBackward0>)\n",
      "tensor(2.3708, grad_fn=<NegBackward0>)\n",
      "tensor(2.3699, grad_fn=<NegBackward0>)\n",
      "tensor(2.3690, grad_fn=<NegBackward0>)\n",
      "tensor(2.3682, grad_fn=<NegBackward0>)\n",
      "tensor(2.3674, grad_fn=<NegBackward0>)\n",
      "tensor(2.3666, grad_fn=<NegBackward0>)\n",
      "tensor(2.3659, grad_fn=<NegBackward0>)\n",
      "tensor(2.3652, grad_fn=<NegBackward0>)\n",
      "tensor(2.3645, grad_fn=<NegBackward0>)\n",
      "tensor(2.3639, grad_fn=<NegBackward0>)\n",
      "tensor(2.3632, grad_fn=<NegBackward0>)\n",
      "tensor(2.3627, grad_fn=<NegBackward0>)\n",
      "tensor(2.3621, grad_fn=<NegBackward0>)\n",
      "tensor(2.3615, grad_fn=<NegBackward0>)\n",
      "tensor(2.3610, grad_fn=<NegBackward0>)\n",
      "tensor(2.3605, grad_fn=<NegBackward0>)\n",
      "tensor(2.3600, grad_fn=<NegBackward0>)\n",
      "tensor(2.3595, grad_fn=<NegBackward0>)\n",
      "tensor(2.3591, grad_fn=<NegBackward0>)\n",
      "tensor(2.3586, grad_fn=<NegBackward0>)\n",
      "tensor(2.3582, grad_fn=<NegBackward0>)\n",
      "tensor(2.3578, grad_fn=<NegBackward0>)\n",
      "tensor(2.3574, grad_fn=<NegBackward0>)\n",
      "tensor(2.3570, grad_fn=<NegBackward0>)\n",
      "tensor(2.3566, grad_fn=<NegBackward0>)\n",
      "tensor(2.3563, grad_fn=<NegBackward0>)\n",
      "tensor(2.3559, grad_fn=<NegBackward0>)\n",
      "tensor(2.3556, grad_fn=<NegBackward0>)\n",
      "tensor(2.3552, grad_fn=<NegBackward0>)\n",
      "tensor(2.3549, grad_fn=<NegBackward0>)\n",
      "tensor(2.3546, grad_fn=<NegBackward0>)\n",
      "tensor(2.3543, grad_fn=<NegBackward0>)\n",
      "tensor(2.3540, grad_fn=<NegBackward0>)\n",
      "tensor(2.3537, grad_fn=<NegBackward0>)\n",
      "tensor(2.3534, grad_fn=<NegBackward0>)\n",
      "tensor(2.3532, grad_fn=<NegBackward0>)\n",
      "tensor(2.3529, grad_fn=<NegBackward0>)\n",
      "tensor(2.3527, grad_fn=<NegBackward0>)\n",
      "tensor(2.3524, grad_fn=<NegBackward0>)\n",
      "tensor(2.3522, grad_fn=<NegBackward0>)\n",
      "tensor(2.3519, grad_fn=<NegBackward0>)\n",
      "tensor(2.3517, grad_fn=<NegBackward0>)\n",
      "tensor(2.3515, grad_fn=<NegBackward0>)\n",
      "tensor(2.3512, grad_fn=<NegBackward0>)\n",
      "tensor(2.3510, grad_fn=<NegBackward0>)\n",
      "tensor(2.3508, grad_fn=<NegBackward0>)\n",
      "tensor(2.3506, grad_fn=<NegBackward0>)\n",
      "tensor(2.3504, grad_fn=<NegBackward0>)\n",
      "tensor(2.3502, grad_fn=<NegBackward0>)\n",
      "tensor(2.3500, grad_fn=<NegBackward0>)\n",
      "tensor(2.3498, grad_fn=<NegBackward0>)\n",
      "tensor(2.3497, grad_fn=<NegBackward0>)\n",
      "tensor(2.3495, grad_fn=<NegBackward0>)\n",
      "tensor(2.3493, grad_fn=<NegBackward0>)\n",
      "tensor(2.3491, grad_fn=<NegBackward0>)\n",
      "tensor(2.3490, grad_fn=<NegBackward0>)\n",
      "tensor(2.3488, grad_fn=<NegBackward0>)\n",
      "tensor(2.3486, grad_fn=<NegBackward0>)\n",
      "tensor(2.3485, grad_fn=<NegBackward0>)\n",
      "tensor(2.3483, grad_fn=<NegBackward0>)\n"
     ]
    }
   ],
   "source": [
    "g = torch.Generator().manual_seed(2147483647)\n",
    "\n",
    "W = torch.randn((54, 27), generator=g, requires_grad=True) # normal dist, column vector, [27,1]\n",
    "\n",
    "for k in range(10000):\n",
    "    logits = xenc_cat @ W\n",
    "    counts = logits.exp()\n",
    "\n",
    "    #softmax\n",
    "    probs = counts / counts.sum(1, keepdims=True)\n",
    "\n",
    "    # probs[torch.arange(num), ys]  => likelihood\n",
    "    # .log()                        => log-likelihood\n",
    "    # - ...\t                        => negative log-likelihood (NLL)\n",
    "    # .mean()                       => mean NLL over batch\n",
    "    loss = -probs[torch.arange(num), ys].log().mean()\n",
    "\n",
    "    W.grad = None\n",
    "    loss.backward()\n",
    "    \n",
    "    W.data -= 1.0 * W.grad\n",
    "\n",
    "    if (k % 100 == 0):\n",
    "        print(loss)"
   ]
  },
  {
   "cell_type": "code",
   "execution_count": 102,
   "id": "c7d90e5a-cd90-47bd-a701-dbca6245ab1e",
   "metadata": {},
   "outputs": [
    {
     "name": "stdout",
     "output_type": "stream",
     "text": [
      "['cexze', 'morlyurailaziaydamellimittain', 'lusan', 'ka', 'da', 'samiyaubrtthrigotai', 'morielliaugie', 'teda', 'kaleyla', 'sade']\n"
     ]
    }
   ],
   "source": [
    "out = []\n",
    "g_offset = 0\n",
    "g = torch.Generator().manual_seed(2147483647 + g_offset)\n",
    "\n",
    "for i in range(100):\n",
    "    chs = ['.', '.']\n",
    "    while True:\n",
    "        ix1, ix2 = stoi[chs[-2]], stoi[chs[-1]]\n",
    "\n",
    "        # ---- NEW: neural network prediction\n",
    "        x = torch.zeros((1, 54))  # 1 sample, 54 features\n",
    "        x[0, ix1] = 1.0\n",
    "        x[0, 27 + ix2] = 1.0\n",
    "\n",
    "        logits = x @ W  # shape [1, 27]\n",
    "        probs = F.softmax(logits, dim=1)  # shape [1, 27]\n",
    "        ix3 = torch.multinomial(probs, num_samples=1, generator=g).item()\n",
    "        # ----\n",
    "\n",
    "        ch3 = itos[ix3]\n",
    "        if ch3 == '.':\n",
    "            out.append(''.join(chs[2:]))\n",
    "            break\n",
    "        chs.append(ch3)\n",
    "\n",
    "print(out[:10])"
   ]
  }
 ],
 "metadata": {
  "kernelspec": {
   "display_name": "Python 3 (ipykernel)",
   "language": "python",
   "name": "python3"
  },
  "language_info": {
   "codemirror_mode": {
    "name": "ipython",
    "version": 3
   },
   "file_extension": ".py",
   "mimetype": "text/x-python",
   "name": "python",
   "nbconvert_exporter": "python",
   "pygments_lexer": "ipython3",
   "version": "3.13.2"
  }
 },
 "nbformat": 4,
 "nbformat_minor": 5
}
