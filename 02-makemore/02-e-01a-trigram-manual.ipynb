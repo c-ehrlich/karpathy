{
 "cells": [
  {
   "cell_type": "code",
   "execution_count": 21,
   "id": "02a58a1f-6154-4251-8f54-b703d498cb3d",
   "metadata": {},
   "outputs": [],
   "source": [
    "import torch\n",
    "import numpy as np\n",
    "import matplotlib.pyplot as plt\n",
    "%matplotlib inline"
   ]
  },
  {
   "cell_type": "code",
   "execution_count": 3,
   "id": "698b3390-ab43-42d5-8ecd-f7926ece49f7",
   "metadata": {},
   "outputs": [],
   "source": [
    "words = open('../_resources/names.txt', 'r').read().splitlines()"
   ]
  },
  {
   "cell_type": "code",
   "execution_count": 90,
   "id": "e6784281-66ef-42c1-84e3-cb8165ee77d3",
   "metadata": {},
   "outputs": [],
   "source": [
    "chars = sorted(list(set(''.join(words))))\n",
    "\n",
    "stoi = {s:i+1 for i,s in enumerate(chars)}\n",
    "stoi['.'] = 0\n",
    "\n",
    "itos = {i:s for s,i in stoi.items()}\n",
    "itos = dict(sorted(itos.items(), key=lambda item: 0 if item[1] == '.' else 1))"
   ]
  },
  {
   "cell_type": "markdown",
   "id": "da1a0f08-e57a-4bfc-9429-d42eb532ef4e",
   "metadata": {},
   "source": [
    "## Plan\n",
    "\n",
    "- start with 2 dots\n",
    "- ensure probability of \".a.\" etc is 0 (ie newly generated names also always start with `..`\n",
    "\n",
    "so `emma` would be:\n",
    ".. => e\n",
    ".e => m\n",
    "em => m\n",
    "mm => a\n",
    "ma => ."
   ]
  },
  {
   "cell_type": "code",
   "execution_count": 56,
   "id": "9f33ee82-6cb8-49ba-a462-2e3ea0f275e2",
   "metadata": {},
   "outputs": [],
   "source": [
    "b = {}\n",
    "for w in words:\n",
    "    chs = ['.'] + ['.'] + list(w) + ['.']\n",
    "    for ch1, ch2, ch3 in zip(chs, chs[1:], chs[2:]):\n",
    "        trigram = (ch1, ch2, ch3)\n",
    "        b[trigram] = b.get(trigram, 0) + 1\n",
    "        # print(ch1, ch2, ch3)"
   ]
  },
  {
   "cell_type": "code",
   "execution_count": 17,
   "id": "3f245893-c674-4c49-95d7-0b55587e3ef4",
   "metadata": {},
   "outputs": [
    {
     "data": {
      "text/plain": [
       "[(('.', '.', 'a'), 4410),\n",
       " (('.', '.', 'k'), 2963),\n",
       " (('.', '.', 'm'), 2538),\n",
       " (('.', '.', 'j'), 2422),\n",
       " (('.', '.', 's'), 2055),\n",
       " (('a', 'h', '.'), 1714),\n",
       " (('.', '.', 'd'), 1690),\n",
       " (('n', 'a', '.'), 1673),\n",
       " (('.', '.', 'r'), 1639),\n",
       " (('.', '.', 'l'), 1572)]"
      ]
     },
     "execution_count": 17,
     "metadata": {},
     "output_type": "execute_result"
    }
   ],
   "source": [
    "sorted(b.items(), key = lambda kv: -kv[1])[:10]"
   ]
  },
  {
   "cell_type": "code",
   "execution_count": 20,
   "id": "9ca79b1b-30aa-4cd3-8490-73ab14414440",
   "metadata": {},
   "outputs": [],
   "source": [
    "N = torch.zeros((27, 27, 27), dtype=torch.int32)\n",
    "\n",
    "for w in words:\n",
    "    chs = ['.'] + ['.'] + list(w) + ['.']\n",
    "    for ch1, ch2, ch3 in zip(chs, chs[1:], chs[2:]):\n",
    "        ix1, ix2, ix3 = stoi[ch1], stoi[ch2], stoi[ch3]\n",
    "        N[ix1, ix2, ix3] += 1"
   ]
  },
  {
   "cell_type": "code",
   "execution_count": 89,
   "id": "d421869a-da50-41a7-9961-b9226e7652ce",
   "metadata": {},
   "outputs": [
    {
     "name": "stdout",
     "output_type": "stream",
     "text": [
      "['ce', 'bra', 'jalius', 'rochityharlonimittain', 'luwak', 'ka', 'da', 'samiyah', 'javer', 'gotai', 'moriellavoji', 'preda', 'kaley', 'maside', 'en', 'aviyah', 'folspihiliven', 'tahlasuzurd', 'del', 'jol', 'pen', 'aisan', 'jaridynne', 'zam', 'der', 'jair', 'tagaikayshaabelarl', 'khysteeven', 'abricayharien', 'xzai', 'kalmaravaysor', 'myson', 'laitynna', 'evedriseriyen', 'kyille', 'lahmie', 'marah', 'ammikamaxemmy', 'asharle', 'alcalha', 'jayceasve', 'selane', 'nellay', 'ra', 'adaliyana', 'isa', 'dougen', 'luishya', 'joharlan', 'annutsaoishri', 'bo', 'ra', 'bekarie', 'vikace', 'ara', 'jayk', 'jagh', 'crylesterliyla', 'ca', 'ro', 'prah', 'ye', 'en', 'aidgessir', 'mer', 'decla', 'tie', 'khamedahzymareizaymarvituricon', 'cri', 'alkirajamere', 'morad', 'lie', 'mariannanfelian', 'keonteahaj', 'ka', 'rena', 'mon', 'keika', 'suynn', 'micia', 'am', 'rocinsofinslie', 'kenie', 'zakiha', 'denovi', 'kar', 'kas', 'try', 'azemir', 'ret', 'ta', 'ley', 'ke', 'sa', 'carlorcagatai', 'versimikavallin', 'skyohaen', 'caikeyaderaydew', 'aarrecher', 'ole']\n"
     ]
    }
   ],
   "source": [
    "P = (N+1).float()\n",
    "P /= P.sum(2, keepdim=True) # [27,1]\n",
    "\n",
    "P[N == 0] = 0  # zero out illegal combinations\n",
    "P /= P.sum(2, keepdim=True)  # renormalize across ix3\n",
    "\n",
    "out = []\n",
    "g_offset = 0\n",
    "g = torch.Generator().manual_seed(2147483647 + g_offset)\n",
    "\n",
    "for i in range(100):\n",
    "    chs = ['.', '.']\n",
    "    while True:\n",
    "        ix1, ix2 = stoi[chs[-2]], stoi[chs[-1]]\n",
    "        probs = P[ix1, ix2]\n",
    "        ix3 = torch.multinomial(probs, num_samples=1, replacement=True, generator=g).item()\n",
    "        ch3 = itos[ix3]\n",
    "        if ch3 == '.':\n",
    "            out.append(''.join(chs[2:]))\n",
    "            break\n",
    "        chs.append(ch3)\n",
    "\n",
    "print(out)"
   ]
  }
 ],
 "metadata": {
  "kernelspec": {
   "display_name": "Python 3 (ipykernel)",
   "language": "python",
   "name": "python3"
  },
  "language_info": {
   "codemirror_mode": {
    "name": "ipython",
    "version": 3
   },
   "file_extension": ".py",
   "mimetype": "text/x-python",
   "name": "python",
   "nbconvert_exporter": "python",
   "pygments_lexer": "ipython3",
   "version": "3.13.2"
  }
 },
 "nbformat": 4,
 "nbformat_minor": 5
}
